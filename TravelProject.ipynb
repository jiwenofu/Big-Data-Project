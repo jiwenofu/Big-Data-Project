{
 "cells": [
  {
   "cell_type": "markdown",
   "id": "efb5b7ed",
   "metadata": {},
   "source": [
    "**Customer Travel Satisfaction -- Big Data Project**"
   ]
  },
  {
   "cell_type": "markdown",
   "id": "565cdb59",
   "metadata": {},
   "source": [
    "Extracting the Dataset"
   ]
  },
  {
   "cell_type": "code",
   "execution_count": null,
   "id": "3e0493a2",
   "metadata": {
    "vscode": {
     "languageId": "plaintext"
    }
   },
   "outputs": [],
   "source": []
  }
 ],
 "metadata": {
  "language_info": {
   "name": "python"
  }
 },
 "nbformat": 4,
 "nbformat_minor": 5
}
